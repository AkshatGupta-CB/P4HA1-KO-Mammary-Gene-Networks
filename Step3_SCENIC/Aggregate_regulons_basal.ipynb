{
 "cells": [
  {
   "cell_type": "code",
   "execution_count": 1,
   "id": "91288d2f",
   "metadata": {},
   "outputs": [],
   "source": [
    "import os\n",
    "from arboreto.utils import load_tf_names\n",
    "import numpy as np\n",
    "import pandas as pd\n",
    "import pickle"
   ]
  },
  {
   "cell_type": "code",
   "execution_count": 2,
   "id": "36db8194",
   "metadata": {},
   "outputs": [],
   "source": [
    "ht5 = os.listdir('../../results/results_withP4HA1/results_step_2_strat_1_5ht_basal/Stats/')\n",
    "ho6 = os.listdir('../../results/results_withP4HA1/results_step_2_strat_1_6ho_basal/Stats/')\n",
    "ht5_ds = os.listdir('../../results/results_withP4HA1/results_step_2_strat_2_5ht_basal_downsampled/Stats/')"
   ]
  },
  {
   "cell_type": "markdown",
   "id": "ec401ecc-8be6-4a90-ae87-62c3fc40967c",
   "metadata": {},
   "source": [
    "# 5ht"
   ]
  },
  {
   "cell_type": "code",
   "execution_count": 3,
   "id": "f341c69c",
   "metadata": {},
   "outputs": [],
   "source": [
    "curr_file_name = f'../../results/results_withP4HA1/results_step_2_strat_1_5ht_basal/5ht_basal_regulons_run0.p'\n",
    "with open(curr_file_name, \"rb\") as f:\n",
    "    curr_regulons = pickle.load(f)"
   ]
  },
  {
   "cell_type": "code",
   "execution_count": 11,
   "id": "bab25ece-830d-438a-9bbc-ded65805f4a7",
   "metadata": {},
   "outputs": [],
   "source": [
    "import copy\n",
    "final_regulon_5ht = []\n",
    "for i in range(20):\n",
    "    curr_file_name = f'../../results/results_withP4HA1/results_step_2_strat_1_5ht_basal/5ht_basal_regulons_run{i}.p'\n",
    "    with open(curr_file_name, \"rb\") as f:\n",
    "        curr_regulons = pickle.load(f)\n",
    "    if final_regulon_5ht is None:\n",
    "        final_regulon_5ht = copy.deepcopy(curr_regulons)\n",
    "    else:\n",
    "        for reg in curr_regulons:\n",
    "            names = []\n",
    "            for regs in final_regulon_5ht:\n",
    "                names.append(regs.name)\n",
    "            if reg.name not in names:\n",
    "                final_regulon_5ht.append(reg)  "
   ]
  },
  {
   "cell_type": "code",
   "execution_count": 13,
   "id": "cad89e3e-1883-44bb-9afc-417ce5bb9cc2",
   "metadata": {},
   "outputs": [
    {
     "data": {
      "text/plain": [
       "70"
      ]
     },
     "execution_count": 13,
     "metadata": {},
     "output_type": "execute_result"
    }
   ],
   "source": [
    "len(final_regulon_5ht[0].gene2weight.keys())"
   ]
  },
  {
   "cell_type": "code",
   "execution_count": 12,
   "id": "c4cae0ac",
   "metadata": {
    "scrolled": true
   },
   "outputs": [
    {
     "data": {
      "text/plain": [
       "Regulon(name='Arid3a(+)', gene2weight=frozendict.frozendict({'Ldlrad3': 10.296316552289271, 'Pgap1': 7.630485489695089, 'Nuak2': 18.19797314639714, 'Dysf': 9.078101018862386, 'Mid1': 12.747627639302973, 'Neb': 8.08544823935629, 'Il4i1': 7.895111965487267, 'Cd209b': 19.66678905654269, 'Fbxl2': 8.338512083537546, 'Cyp26b1': 7.453637243765947, 'Stard5': 8.73552581114464, 'Csgalnact1': 18.35858307961872, 'Pik3ap1': 8.176265100138338, 'Rps6kb2': 7.762427870493958, 'Fut7': 15.294113035729085, 'Gpr35': 9.94038149892094, 'Dnm3os': 23.429928656706632, 'Cdc42ep2': 13.432884263981196, 'Pex19': 14.559891244144367, 'Lmo7': 11.81004760445153, 'Jchain': 12.657058401559851, 'Trmu': 12.034468450916908, 'Tnfrsf25': 32.17173598983105, 'Skap1': 23.188119073184524, 'Tespa1': 24.884613376361727, 'Smpd5': 14.69885355549397, 'Ido1': 11.710444624901545, 'Slfn1': 11.762496930963229, 'Zfp101': 12.215243830685964, 'Urgcp': 13.31002044049738, 'Jade2': 19.0750997241063, 'Serpine1': 10.771872213035453, 'Msantd2': 16.75243244846805, 'Mob3c': 8.95251576599344, 'Ehhadh': 26.68022617648321, 'Cdc14b': 16.09489831674295, 'Rora': 6.625174154456756, 'Lrsam1': 21.59157383734334, 'Trmt11': 13.546303801661052, 'E4f1': 6.383839595155225, 'Cpeb3': 5.981566991296036, 'Slc25a28': 10.248157164848466, 'Pank4': 8.538428448954383, 'Gys1': 6.101621309449845, 'Thbs2': 7.565430472960878, 'Bcl6b': 6.175392228086168, 'Vps18': 6.081068460306483, 'Atg2b': 5.992762509613519, 'Elf1': 3.834531570136864, 'Lekr1': 5.678694940491861, 'Kcnq1ot1': 5.193369854418955, 'Pou3f1': 5.9943285275230895, 'Fbxo31': 6.426713820475877, 'Stk17b': 4.436438684533131, 'Mfng': 5.735386813501802, 'Fgf11': 4.029390317250628, 'Gxylt1': 8.39822819172637, 'Tnfrsf13c': 6.521643670922849, 'Filip1l': 5.600522052456086, 'Snx13': 6.340068889119612, 'Gadd45a': 7.761248216846876, 'Kcnq1': 19.75841083118034, 'Nudt13': 13.2262731112033, 'Cep135': 7.822402241314662, 'Scara5': 8.801603336486794, 'Hrct1': 15.16804458801861, 'Rbm38': 9.482657873370483, 'Pign': 12.389151651674863, 'Hmbox1': 8.71510668972535, 'Arid3a': 1.0}), gene2occurrence=frozendict.frozendict({}), transcription_factor='Arid3a', context=frozenset({'tfdimers__MD00195.png', 'activating'}), score=2.5387522396938205, nes=0.0, orthologous_identity=0.0, similarity_qvalue=0.0, annotation='')"
      ]
     },
     "execution_count": 12,
     "metadata": {},
     "output_type": "execute_result"
    }
   ],
   "source": [
    "final_regulon_5ht[0]"
   ]
  },
  {
   "cell_type": "code",
   "execution_count": 15,
   "id": "32c09e8e",
   "metadata": {},
   "outputs": [
    {
     "data": {
      "text/plain": [
       "Regulon(name='Arid3a(+)', gene2weight=frozendict.frozendict({'Ldlrad3': 10.350621023001958, 'Pgap1': 7.630485489695089, 'Nuak2': 19.0901417566168, 'Dysf': 9.794609026336374, 'Mid1': 15.661896629214578, 'Neb': 8.08544823935629, 'Il4i1': 7.895111965487267, 'Cd209b': 19.66678905654269, 'Fbxl2': 18.41459525329542, 'Cyp26b1': 11.710873335684123, 'Stard5': 8.73552581114464, 'Csgalnact1': 18.35858307961872, 'Pik3ap1': 12.939782724253575, 'Rps6kb2': 7.762427870493958, 'Fut7': 23.022405803910868, 'Gpr35': 9.94038149892094, 'Dnm3os': 25.468595024605698, 'Cdc42ep2': 14.769895486259554, 'Pex19': 14.559891244144367, 'Lmo7': 14.04823032869994, 'Jchain': 12.657058401559851, 'Trmu': 12.034468450916908, 'Tnfrsf25': 32.17173598983105, 'Skap1': 23.188119073184524, 'Tespa1': 28.5194684749668, 'Smpd5': 14.69885355549397, 'Ido1': 17.129712531233093, 'Slfn1': 15.160192983999067, 'Zfp101': 12.215243830685964, 'Urgcp': 15.558020947682245, 'Jade2': 22.566343747090432, 'Serpine1': 14.22652660422711, 'Msantd2': 16.75243244846805, 'Mob3c': 13.021956489217049, 'Ehhadh': 27.23247717508185, 'Cdc14b': 24.887813117392778, 'Rora': 7.682056541605759, 'Lrsam1': 25.604179038715905, 'Trmt11': 17.72926177055373, 'E4f1': 6.383839595155225, 'Cpeb3': 7.826758260874392, 'Slc25a28': 17.20966454671837, 'Pank4': 8.664980787662124, 'Gys1': 7.794328300250539, 'Thbs2': 7.565430472960878, 'Bcl6b': 21.75213541739777, 'Vps18': 6.081068460306483, 'Atg2b': 5.992762509613519, 'Elf1': 3.834531570136864, 'Lekr1': 7.512870258675605, 'Kcnq1ot1': 5.193369854418955, 'Pou3f1': 7.813623930798323, 'Fbxo31': 6.426713820475877, 'Stk17b': 4.436438684533131, 'Mfng': 14.706002809476882, 'Fgf11': 4.029390317250628, 'Gxylt1': 8.39822819172637, 'Tnfrsf13c': 7.606102928909786, 'Filip1l': 6.322730575518599, 'Snx13': 7.937707820669057, 'Gadd45a': 12.543396953983423, 'Kcnq1': 27.257442213765824, 'Nudt13': 18.306346820734007, 'Cep135': 8.981032589149931, 'Scara5': 20.370114483821503, 'Hrct1': 23.678225623083584, 'Rbm38': 9.482657873370483, 'Pign': 12.754395619307768, 'Hmbox1': 10.448140361470733, 'Arid3a': 1.0, 'Phtf2': 16.044425621582555, 'Lgi1': 23.96719653874088, 'Zfp617': 18.584491911181328, 'Bard1': 12.091176044000598, 'Fam72a': 14.56273994268346, 'Anks3': 15.30574198874474, 'Oas2': 22.047480255510266, 'Slc6a4': 47.92196627251279, 'Rgs12': 10.90604811592241, 'Ttf1': 12.07778249210099, 'Zfp12': 14.130690713578824, 'Tenm4': 8.48396818087897, 'Lrrc49': 7.4108918181018115, 'Best1': 7.714610396169348, 'Slc12a7': 10.118320310407908, 'Sod3': 27.1867681467598, 'Hist1h4a': 12.016572853098957, 'Lag3': 8.03390053935342, 'Rapgef2': 7.176069087369867, 'Cd5l': 6.1388858075280615, 'Dus3l': 6.9799917097901165, 'Sf3a2': 7.154980394769492, 'Zfp740': 7.0394517849723774, 'Cdc42ep3': 6.382579830606932, 'Chd1l': 4.192512513561368, 'Igfbp4': 7.840574337384933, 'P2ry10': 4.91033642676933, 'Usp49': 13.58584685474232, 'Fgd4': 10.074689086329116, 'Ntf3': 10.389969971450034, 'Ska2': 4.389531602986211, 'Flnc': 4.813697142167426, 'Bach2': 4.996687294143652, 'Ltbp2': 7.198548687337906, 'Slco5a1': 9.920864319984023, 'Egln2': 11.976082889468582, 'Notch1': 7.146232145329664, 'Rimklb': 5.353085407030102, 'Fam122b': 8.354650588753609, 'C3ar1': 8.289068112535261, 'Btla': 10.653728144724925, 'Cdc7': 11.984898886444574, 'Dach1': 7.757964125045386, 'Wdr3': 6.48923830508652, 'Lox': 12.37411757058542, 'Kansl2': 5.887267524810938, 'Gpn2': 16.464073711626853, 'Ago3': 5.009107975552586, 'Hoxb9': 16.737316180142113, 'Dhdds': 4.023009109316558, 'Hpgds': 7.122147933771168, 'Nt5dc1': 11.130503850760062, 'Sox7': 21.31085727638021, 'Per3': 15.044917460182054, 'Nrarp': 18.44692128458677, 'Arhgef6': 14.033290874163434, 'Mul1': 13.25945888332804, 'Acod1': 16.52733116603983, 'Rev1': 15.26200546939387, 'Hyal2': 7.511061465628437, 'Mmp9': 12.191374173365327, 'Rassf5': 13.011041810101862, 'Rusc1': 8.74179277733487, 'Dbp': 16.815670760253106, 'Psmg3': 8.088792572557459, 'Itga1': 8.704380599748745, 'Neurl4': 11.439086201931524, 'Chst12': 11.308737211565306, 'Sox11': 20.32991478734185, 'Aoc1': 21.93171449016986, 'Ptprm': 17.749288050118086, 'Chil3': 8.187951775655913, 'Atp6v0e2': 9.79957164213276, 'Stab1': 7.238446032622987, 'Ms4a6c': 11.823449478525166, 'Spred2': 11.79920786316876, 'Taf2': 7.181239906571264, 'Suv39h1': 7.556737658424911, 'Pde7a': 6.77292681691998, 'Asb2': 6.283251871469724, 'Ank3': 6.448441556595618, 'Slc12a6': 6.66449553114194, 'Ppp2r3a': 6.459122555575062, 'Hdc': 5.935017278718975, 'Map3k20': 6.549083311112863, 'Snx11': 15.994260097367109, 'Vegfc': 9.420601424041044, 'Zfp110': 8.668927385423054, 'Slfn9': 9.74268788294636, 'Arntl': 8.914202768883797, 'Fam184a': 8.621800946378935, 'Racgap1': 13.395360481976224, 'Adcy4': 8.369629614325328, 'Itgb8': 9.094331471256268, 'Capn1': 11.606279100644228, 'Snhg11': 15.324440138670123, 'Trim47': 16.32759099909409, 'Trem3': 25.314465417718047, 'Adam33': 10.675688535720026, 'Efnb1': 6.183762396282281, 'Hdac7': 6.5781382526909065, 'Eif2b2': 4.629290207623892, 'Tarbp1': 7.439818633516677, 'Pparg': 8.717155823629618, 'Tanc2': 4.464584972331651, 'Tet2': 7.406851081992187, 'Epb41l5': 6.696721705531042, 'Tusc1': 6.4845502768458925, 'Taf4b': 6.041821115963524, 'Arhgap29': 10.983239526842118, 'Fhl1': 3.843383268529424, 'B4galt6': 5.50791877486765, 'Zc3h8': 8.762347936691258, 'Mef2c': 7.0071799782545945, 'Birc2': 7.185732685416708, 'Kifc3': 5.22599431109769, 'Smpd3': 4.145536181935393, 'Vps33a': 3.8926626968728497, 'Cln3': 5.194015483064306, 'Pms1': 6.777191102457763, 'Zfp568': 7.445554544719327, 'Nfkb1': 3.955435864906945, 'Nxf1': 9.485811947747932, 'Gbp6': 13.415217118917727, 'Ankrd46': 8.47571271460167, 'Pclo': 10.051649941919925, 'Mxd1': 10.687065326097947, 'Zfp580': 9.969110485155973, 'Fancg': 18.79657354960217, 'Taf1c': 18.588489258713015, 'Zfp524': 10.167807535943073, 'Sema6c': 7.487663471156114, 'Galnt4': 10.76493606362166, 'Crybb3': 5.139553197165581, 'Ablim1': 5.456480659077015, 'Abca1': 5.028685644955482, 'Ly6i': 19.030006334297337, 'Zfp65': 12.372614509857804, 'Oasl1': 10.942774819397751, 'Ifit3b': 12.27162136967888, 'Ifit3': 12.068128392776185, 'Tnfaip2': 4.128024943786836, 'Mctp2': 11.096368636297012, 'Arid3b': 11.764438930628405, 'Zhx3': 10.841789990093163, 'Fam98c': 5.944626649444214, 'Ly6c2': 6.930982523778378, 'Trp63': 4.54662989865753, 'Acss1': 12.69709504565816, 'Fam185a': 3.8027757569665086, 'Tmem164': 5.773161520582304, 'Mvd': 4.004791577998963, 'Slc8a1': 7.59335179995764, 'Col18a1': 3.8818845240733006, 'Tnfaip8l2': 5.653511673408069, 'Il2rg': 6.475666832948381, 'Klk8': 5.415359728886933, 'Abca9': 3.846065026513493, 'Matn4': 8.863060615558993, 'Hoxd4': 12.600678730356217, 'Plekhm1': 6.892276870264119, 'Itgav': 7.46012385999995, 'Kif1a': 8.696284696774345, 'Dleu2': 4.598679418822775, 'Chd7': 4.596432040237708, 'Rnf149': 6.153358134940352, 'Fgd3': 7.310427177955887, 'Mllt11': 7.889237263843305, 'Hmox1': 4.031224835776037, 'Map3k8': 5.127388351546715, 'Inhba': 5.001442836921703, 'Coro7': 7.621303320827884, 'Sept1': 12.899149590847214, 'C2cd2': 7.369666341601254, 'Hp': 15.325135745570115, 'Gpr160': 13.333393048600536, 'Ncam1': 4.057503154156356, 'Mamld1': 7.008092363056516, 'Abhd12': 3.983501089710372, 'Hs3st3b1': 5.409024123894192, 'Rab11fip1': 3.81806122884648, 'Hsdl1': 5.357718666853507, 'Ap5s1': 11.877899821768644, 'Sema4d': 3.767529923746437, 'Ptgs2os2': 5.688163599651378, 'Pgf': 8.980974329394146, 'Gbp2': 4.549843793114032, 'Tfeb': 5.007908969503643, 'Dact1': 4.462722180073093, 'Pnck': 4.115259976144073, 'Ptprb': 14.737747741514603, 'Myo5a': 11.553686689725254, 'Ptpn23': 4.754434523500546, 'Mtr': 5.711050281102647, 'Slc25a20': 3.3952295926764102, 'Cacna1d': 4.069301185301947, 'Dhx40': 2.8578043920875067, 'Pcdh1': 5.145582425821113, 'Pyroxd2': 9.42559335606919, 'Pde4a': 4.803993223500094, 'Hivep3': 4.211224315971755, 'Gcnt1': 4.133809073972402, 'Col5a2': 3.774528988324165, 'Clk2': 5.454648965237263, 'Acp5': 4.772183369461954, 'Timp3': 5.819759938824732, 'Zfp646': 8.297750926626465, 'Tlr1': 8.338344590032417, 'Cd37': 13.126218707526188, 'Mettl17': 11.867277427970354, 'Slc6a6': 7.079183654238951, 'Gsn': 6.060983197791468}), gene2occurrence=frozendict.frozendict({}), transcription_factor='Arid3a', context=frozenset({'tfdimers__MD00195.png', 'tfdimers__MD00447.png', 'activating', 'tfdimers__MD00327.png', 'tfdimers__MD00204.png', 'tfdimers__MD00028.png', 'tfdimers__MD00054.png', 'tfdimers__MD00515.png', 'tfdimers__MD00348.png', 'tfdimers__MD00505.png', 'tfdimers__MD00155.png', 'tfdimers__MD00209.png'}), score=3.5602774823210295, nes=0.0, orthologous_identity=0.0, similarity_qvalue=0.0, annotation='')"
      ]
     },
     "execution_count": 15,
     "metadata": {},
     "output_type": "execute_result"
    }
   ],
   "source": [
    "final_regulon_5ht[0]"
   ]
  },
  {
   "cell_type": "code",
   "execution_count": 13,
   "id": "eb9d5538-0291-4450-9e1e-89e63636e91d",
   "metadata": {},
   "outputs": [],
   "source": [
    "for i in range(20):\n",
    "    curr_file_name = f'../../results/results_withP4HA1/results_step_2_strat_1_5ht_basal/5ht_basal_regulons_run{i}.p'\n",
    "    with open(curr_file_name, \"rb\") as f:\n",
    "        curr_regulons = pickle.load(f)\n",
    "    count = 0\n",
    "    for k,_ in enumerate(final_regulon_5ht):\n",
    "        for reg in curr_regulons: \n",
    "            if reg.name == final_regulon_5ht[k].name:\n",
    "                count+=1\n",
    "                final_regulon_5ht[k] = final_regulon_5ht[k].union(reg)\n",
    "                break\n",
    "        "
   ]
  },
  {
   "cell_type": "code",
   "execution_count": 14,
   "id": "3a7010d1-8d4f-4b3d-9657-dc51add6dee6",
   "metadata": {},
   "outputs": [
    {
     "data": {
      "text/plain": [
       "282"
      ]
     },
     "execution_count": 14,
     "metadata": {},
     "output_type": "execute_result"
    }
   ],
   "source": [
    "len(final_regulon_5ht[0].gene2weight.keys())"
   ]
  },
  {
   "cell_type": "code",
   "execution_count": 16,
   "id": "b7a63576-3b52-48ae-b03e-335c56a24f2b",
   "metadata": {},
   "outputs": [],
   "source": [
    "with open('../../results/results_withP4HA1/Aggregated_regulons_for_AUCell/Agg_5ht_basal_regulons.p', \"wb\") as f:\n",
    "    pickle.dump(final_regulon_5ht, f)"
   ]
  },
  {
   "cell_type": "markdown",
   "id": "7471ae1e",
   "metadata": {},
   "source": [
    "# 6ho"
   ]
  },
  {
   "cell_type": "code",
   "execution_count": 4,
   "id": "bab46e80-8f37-481c-99cd-a36c319ca4c6",
   "metadata": {},
   "outputs": [
    {
     "name": "stdout",
     "output_type": "stream",
     "text": [
      "37\n",
      "132\n"
     ]
    }
   ],
   "source": [
    "final_regulon_6ho = []\n",
    "for i in range(20):\n",
    "    curr_file_name = f'../../results/results_withP4HA1/results_step_2_strat_1_6ho_basal/6ho_basal_regulons_run{i}.p'\n",
    "    with open(curr_file_name, \"rb\") as f:\n",
    "        curr_regulons = pickle.load(f)\n",
    "    if final_regulon_6ho is None:\n",
    "        final_regulon_6ho = copy.deepcopy(curr_regulons)\n",
    "    else:\n",
    "        for reg in curr_regulons:\n",
    "            names = []\n",
    "            for regs in final_regulon_6ho:\n",
    "                names.append(regs.name)\n",
    "            if reg.name not in names:\n",
    "                final_regulon_6ho.append(reg)  \n",
    "                \n",
    "print(len(final_regulon_6ho[0].gene2weight.keys()))\n",
    "\n",
    "for i in range(20):\n",
    "    curr_file_name = f'../../results/results_withP4HA1/results_step_2_strat_1_6ho_basal/6ho_basal_regulons_run{i}.p'\n",
    "    with open(curr_file_name, \"rb\") as f:\n",
    "        curr_regulons = pickle.load(f)\n",
    "    count = 0\n",
    "    for k,_ in enumerate(final_regulon_6ho):\n",
    "        for reg in curr_regulons: \n",
    "            if reg.name == final_regulon_6ho[k].name:\n",
    "                count+=1\n",
    "                final_regulon_6ho[k] = final_regulon_6ho[k].union(reg)\n",
    "                break\n",
    "print(len(final_regulon_6ho[0].gene2weight.keys()))"
   ]
  },
  {
   "cell_type": "code",
   "execution_count": 5,
   "id": "e3d0a9ef",
   "metadata": {},
   "outputs": [],
   "source": [
    "with open('../../results/results_withP4HA1/Aggregated_regulons_for_AUCell/Agg_6ho_basal_regulons.p', \"wb\") as f:\n",
    "    pickle.dump(final_regulon_6ho, f)"
   ]
  },
  {
   "cell_type": "code",
   "execution_count": null,
   "id": "72aaebe1",
   "metadata": {},
   "outputs": [],
   "source": []
  }
 ],
 "metadata": {
  "kernelspec": {
   "display_name": "Python 3 (ipykernel)",
   "language": "python",
   "name": "python3"
  },
  "language_info": {
   "codemirror_mode": {
    "name": "ipython",
    "version": 3
   },
   "file_extension": ".py",
   "mimetype": "text/x-python",
   "name": "python",
   "nbconvert_exporter": "python",
   "pygments_lexer": "ipython3",
   "version": "3.9.13"
  }
 },
 "nbformat": 4,
 "nbformat_minor": 5
}
