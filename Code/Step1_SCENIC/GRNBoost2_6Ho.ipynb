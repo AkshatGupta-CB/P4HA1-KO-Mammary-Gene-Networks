{
 "cells": [
  {
   "cell_type": "code",
   "execution_count": 1,
   "id": "db0258d2-0e15-4f0f-b591-0726e58b9b23",
   "metadata": {},
   "outputs": [],
   "source": [
    "import pandas as pd\n",
    "import anndata as ad\n",
    "import scanpy as sc\n",
    "from arboreto.utils import load_tf_names\n",
    "from arboreto.algo import grnboost2\n",
    "import numpy as np"
   ]
  },
  {
   "cell_type": "code",
   "execution_count": 2,
   "id": "d977c2f0-90b5-41eb-9efc-abeb21ee4338",
   "metadata": {},
   "outputs": [],
   "source": [
    "#Load the data\n",
    "data = sc.read_h5ad('../../data/combined_data_5ht6hointersection_union_highly_var.h5ad')#Change path as required.\n",
    "tfs = load_tf_names('../../data/allTFs_mm.txt')\n",
    "\n",
    "ho6_data = data[data.obs['orig.ident'] == '6Ho']\n",
    "ho6_basal = ho6_data[ho6_data.obs['cluster1'] == 'Mammary epithelial cells-Basal']\n",
    "counts_df_6ho_basal = pd.DataFrame(ho6_basal.X, index=ho6_basal.obs_names,columns=ho6_basal.var_names)\n",
    "tfs = sorted(list((set(tfs).intersection(ho6_basal.var_names))))"
   ]
  },
  {
   "cell_type": "code",
   "execution_count": 3,
   "id": "b939bfcd-2e9b-4546-81b6-78318a5b8f63",
   "metadata": {},
   "outputs": [
    {
     "data": {
      "text/plain": [
       "451"
      ]
     },
     "execution_count": 3,
     "metadata": {},
     "output_type": "execute_result"
    }
   ],
   "source": [
    "len(tfs)"
   ]
  },
  {
   "cell_type": "markdown",
   "id": "674d47a3",
   "metadata": {},
   "source": [
    "# RUN GRNBOOST2 for all TFs "
   ]
  },
  {
   "cell_type": "code",
   "execution_count": null,
   "id": "19a2f523-d9a1-43df-9167-70413197fe0b",
   "metadata": {},
   "outputs": [],
   "source": [
    "#Run grnboost2 with SGBM parameters, without a seed - 6ho_basal\n",
    "for i in range(0,20):#This will run the loop 20 times:\n",
    "    print(f'Run: {i}')\n",
    "    #Run GRNBOOST2 for batches of 10 TFs.\n",
    "    #Create a variable that will contain the entire edge list\n",
    "    adjacencies = None\n",
    "    index = 0\n",
    "    iterations = np.floor(len(tfs)/10)\n",
    "    n = 10\n",
    "    count = 0\n",
    "    #Run in batches of 10\n",
    "    while count < iterations + 1:\n",
    "        \n",
    "        curr_tfs = tfs[index:index+n]\n",
    "        curr_adjacencies = grnboost2(counts_df_6ho_basal, tf_names=curr_tfs, verbose=False)\n",
    "        \n",
    "        if adjacencies is None:\n",
    "            adjacencies = curr_adjacencies\n",
    "        else:\n",
    "            adjacencies = pd.concat([adjacencies, curr_adjacencies], axis=0)\n",
    "        index += 10\n",
    "        count += 1\n",
    "        if count == iterations:\n",
    "            n = int(len(tfs) - iterations*n)\n",
    "        print(f'Done for {count*10} TFs')\n",
    "        if count%10 == 0:\n",
    "            adjacencies.to_csv(f'../../results/results_step_1_grnboost2_6ho_basal/6Ho_basal_adjacencies_run{i}_{count*10}TFs.csv')\n",
    "    adjacencies.to_csv(f'../../results/results_step_1_grnboost2_6ho_basal/6Ho_basal_adjacencies_run{i}_allTFs.csv')"
   ]
  }
 ],
 "metadata": {
  "kernelspec": {
   "display_name": "Python 3 (ipykernel)",
   "language": "python",
   "name": "python3"
  },
  "language_info": {
   "codemirror_mode": {
    "name": "ipython",
    "version": 3
   },
   "file_extension": ".py",
   "mimetype": "text/x-python",
   "name": "python",
   "nbconvert_exporter": "python",
   "pygments_lexer": "ipython3",
   "version": "3.10.11"
  }
 },
 "nbformat": 4,
 "nbformat_minor": 5
}
