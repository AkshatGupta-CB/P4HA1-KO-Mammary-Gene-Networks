{
 "cells": [
  {
   "cell_type": "code",
   "execution_count": null,
   "id": "e5435820",
   "metadata": {},
   "outputs": [],
   "source": [
    "import pandas as pd\n",
    "from sklearn.preprocessing import StandardScaler"
   ]
  },
  {
   "cell_type": "code",
   "execution_count": null,
   "id": "9af2c8e7",
   "metadata": {},
   "outputs": [],
   "source": [
    "#Read the AUC results\n",
    "AUC_5ht = pd.read_csv('../../Results/Results_no_ptprc_adgre1/SCENIC_results/results_step3_AUC_5ht6hobasal/AUC_mtx_Agg_5ht_basal.csv',index_col=0)\n",
    "AUC_6ho = pd.read_csv('../../Results/Results_no_ptprc_adgre1/SCENIC_results/results_step3_AUC_5ht6hobasal/AUC_mtx_Agg_6ho_basal.csv',index_col=0)"
   ]
  },
  {
   "cell_type": "code",
   "execution_count": null,
   "id": "3e699de1",
   "metadata": {
    "scrolled": false
   },
   "outputs": [],
   "source": [
    "AUC_5ht"
   ]
  },
  {
   "cell_type": "code",
   "execution_count": null,
   "id": "5eb16079",
   "metadata": {},
   "outputs": [],
   "source": [
    "AUC_6ho"
   ]
  },
  {
   "cell_type": "code",
   "execution_count": null,
   "id": "db7808cf",
   "metadata": {},
   "outputs": [],
   "source": [
    "# Create a StandardScaler instance\n",
    "scaler = StandardScaler()\n",
    "\n",
    "# Scale columns for each DataFrame (each column is standardized independently)\n",
    "AUC_5ht_scaled = pd.DataFrame(\n",
    "    scaler.fit_transform(AUC_5ht),\n",
    "    index=AUC_5ht.index,\n",
    "    columns=AUC_5ht.columns\n",
    ")\n",
    "\n",
    "AUC_6ho_scaled = pd.DataFrame(\n",
    "    scaler.fit_transform(AUC_6ho),\n",
    "    index=AUC_6ho.index,\n",
    "    columns=AUC_6ho.columns\n",
    ")"
   ]
  },
  {
   "cell_type": "code",
   "execution_count": null,
   "id": "a8e99334",
   "metadata": {},
   "outputs": [],
   "source": [
    "# Identify common columns between the two scaled DataFrames\n",
    "common_cols = AUC_5ht_scaled.columns.intersection(AUC_6ho_scaled.columns)\n",
    "\n",
    "# Subset both DataFrames to include only the common columns\n",
    "AUC_5ht_subset = AUC_5ht_scaled[common_cols]\n",
    "AUC_6ho_subset = AUC_6ho_scaled[common_cols]"
   ]
  },
  {
   "cell_type": "code",
   "execution_count": null,
   "id": "be35b4fb",
   "metadata": {},
   "outputs": [],
   "source": [
    "AUC_5ht_subset"
   ]
  },
  {
   "cell_type": "code",
   "execution_count": null,
   "id": "7098e15b",
   "metadata": {},
   "outputs": [],
   "source": [
    "AUC_6ho_subset"
   ]
  },
  {
   "cell_type": "code",
   "execution_count": null,
   "id": "b831eac6",
   "metadata": {},
   "outputs": [],
   "source": [
    "#Save the files as .txt files for Cluster3.0\n",
    "AUC_5ht_subset.to_csv('../../Results/Results_no_ptprc_adgre1/Cluster3/gene_cell_corr/Average_linkage/5Ht/AUC_mtx_5ht_basal_for_ClusterAnalysis.txt',sep='\\t')\n",
    "AUC_5ht_subset.to_csv('../../Results/Results_no_ptprc_adgre1/Cluster3/gene_cell_corr/Complete_linkage/5Ht/AUC_mtx_5ht_basal_for_ClusterAnalysis.txt',sep='\\t')\n",
    "AUC_5ht_subset.to_csv('../../Results/Results_no_ptprc_adgre1/Cluster3/gene_corr_cell_euclidean/Average_linkage/5Ht/AUC_mtx_5ht_basal_for_ClusterAnalysis.txt',sep='\\t')\n",
    "AUC_5ht_subset.to_csv('../../Results/Results_no_ptprc_adgre1/Cluster3/gene_corr_cell_euclidean/Complete_linkage/5Ht/AUC_mtx_5ht_basal_for_ClusterAnalysis.txt',sep='\\t')"
   ]
  },
  {
   "cell_type": "code",
   "execution_count": null,
   "id": "d5c69dc4",
   "metadata": {},
   "outputs": [],
   "source": [
    "#Create a function to load 5Ht clustering results, reorder 6Ho and save that file\n",
    "def reorder_6ho_AUC_results(cdt_5ht_path,AUC_6ho_df,cdt_6ho_path):\n",
    "    cdt_5ht = pd.read_csv(cdt_5ht_path,sep='\\t')\n",
    "    regulon_order = list(cdt_5ht.columns[4:])\n",
    "    #Subset 6ho\n",
    "    AUC_6ho_reordered = AUC_6ho_df[regulon_order]\n",
    "\n",
    "    #AUC_6ho_reordered.to_csv(cdt_6ho_path,sep='\\t')\n",
    "    print('6ho file saved at\\n',cdt_6ho_path)\n",
    "    return"
   ]
  },
  {
   "cell_type": "code",
   "execution_count": null,
   "id": "a4cad040",
   "metadata": {},
   "outputs": [],
   "source": [
    "cdt_5ht_paths = ['../../Results/Results_no_ptprc_adgre1/Cluster3/gene_cell_corr/Average_linkage/5Ht/AUC_mtx_5ht_basal_for_ClusterAnalysis.cdt']\n",
    "\n",
    "cdt_6ho_paths = ['../../Results/Results_no_ptprc_adgre1/Cluster3/gene_cell_corr/Average_linkage/6Ho/AUC_mtx_6ho_basal_for_ClusterAnalysis.txt']\n",
    "\n",
    "for i in range(len(cdt_5ht_paths)):\n",
    "    reorder_6ho_AUC_results(cdt_5ht_paths[i],AUC_6ho_subset,cdt_6ho_paths[i])"
   ]
  },
  {
   "cell_type": "markdown",
   "id": "dca63630",
   "metadata": {},
   "source": []
  }
 ],
 "metadata": {
  "kernelspec": {
   "display_name": "Python 3 (ipykernel)",
   "language": "python",
   "name": "python3"
  },
  "language_info": {
   "codemirror_mode": {
    "name": "ipython",
    "version": 3
   },
   "file_extension": ".py",
   "mimetype": "text/x-python",
   "name": "python",
   "nbconvert_exporter": "python",
   "pygments_lexer": "ipython3",
   "version": "3.9.13"
  }
 },
 "nbformat": 4,
 "nbformat_minor": 5
}
