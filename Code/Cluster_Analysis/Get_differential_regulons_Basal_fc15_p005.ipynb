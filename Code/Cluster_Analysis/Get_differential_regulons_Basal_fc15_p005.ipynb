{
 "cells": [
  {
   "cell_type": "markdown",
   "id": "869f2c8b",
   "metadata": {},
   "source": [
    "# P_Value cutoff (<0.05) has been applied for DEGs"
   ]
  },
  {
   "cell_type": "code",
   "execution_count": 1,
   "id": "6796b846",
   "metadata": {},
   "outputs": [],
   "source": [
    "import pandas as pd\n",
    "import os"
   ]
  },
  {
   "cell_type": "markdown",
   "id": "95390d81",
   "metadata": {},
   "source": [
    "# Get results for common regulons"
   ]
  },
  {
   "cell_type": "code",
   "execution_count": 2,
   "id": "92e747ee",
   "metadata": {},
   "outputs": [],
   "source": [
    "global basal_reg_dir\n",
    "basal_reg_dir = \"../../Results/Results_no_ptprc_adgre1/Cluster_Analysis_avg_link_gene_cell_corr/Sig_Regulons/\"\n",
    "global output_dir \n",
    "output_dir = \"../../Results/Results_no_ptprc_adgre1/Cluster_Analysis_avg_link_gene_cell_corr/DEG_p005/DEG_TargetGenes_Sig_Regulons_fc15_p005\"\n",
    "global target_genes_5ht_dir \n",
    "target_genes_5ht_dir = \"../../Results/Results_no_ptprc_adgre1/SCENIC_results/results_step2_5ht_basal/Stats\"\n",
    "global target_genes_6ho_dir \n",
    "target_genes_6ho_dir = \"../../Results/Results_no_ptprc_adgre1/SCENIC_results/results_step2_6ho_basal/Stats\"\n",
    "global DEG_results_dir \n",
    "DEG_results_dir = \"../../Results/Results_no_ptprc_adgre1/Cluster_Analysis_avg_link_gene_cell_corr/DEG_p005/DEG_results_fc15_p005\""
   ]
  },
  {
   "cell_type": "markdown",
   "id": "ae25cc07",
   "metadata": {},
   "source": [
    "# 5Ht"
   ]
  },
  {
   "cell_type": "code",
   "execution_count": 6,
   "id": "ef3d954e",
   "metadata": {},
   "outputs": [],
   "source": [
    "basal_similar_clusters = ['S1','S2','S3']\n",
    "\n",
    "for cluster in basal_similar_clusters:\n",
    "    significant_regulons_df = pd.read_csv(f'{basal_reg_dir}/Cluster_{cluster}_basal_reg_wilcoxon_AUC_diff_15_sig.csv')\n",
    "    significant_regulons = list(significant_regulons_df['Regulon'])\n",
    "    DEG_files = os.listdir(f\"{DEG_results_dir}/5ht_basal_{cluster}/\")\n",
    "    DEG_files = sorted(DEG_files)\n",
    "    DEG_files = [DEG_files[0],DEG_files[2],DEG_files[1]] ##reorder files as per our conditions\n",
    "    \n",
    "    for regulon in significant_regulons:\n",
    "        regulon_targets_df = pd.read_csv(f'{target_genes_5ht_dir}/{regulon}.csv')\n",
    "        regulon_targets = list(regulon_targets_df['Gene'])\n",
    "        final_reg_df = pd.DataFrame()\n",
    "        \n",
    "        for file in DEG_files:\n",
    "            DEG_regulons_df = pd.read_csv(f'{DEG_results_dir}/5ht_basal_{cluster}/{file}',sep='\\t',index_col=0)\n",
    "            DEG_results = []\n",
    "            for i,target in enumerate(regulon_targets):\n",
    "                if i == 0:\n",
    "                    curr_target = target.split('(')[0]\n",
    "                else:\n",
    "                    curr_target = target\n",
    "                if curr_target in DEG_regulons_df.index:\n",
    "                    DEG_results.append([1]+list(DEG_regulons_df.loc[curr_target]))\n",
    "                else:\n",
    "                    DEG_results.append([0,'NA','NA','NA','NA','NA'])\n",
    "\n",
    "            curr_file_name = file.split(f'{cluster}_')[-1].split('.')[0]\n",
    "            if '5Ht' not in curr_file_name and '5ht' not in curr_file_name:\n",
    "                curr_file_name = '5Ht_'+curr_file_name\n",
    "            curr_file_df = pd.DataFrame(DEG_results,columns=[f'{curr_file_name}_DEG',f'p_val_{curr_file_name}'\n",
    "                                                             ,f'avg_log2FC_{curr_file_name}',\n",
    "                                                             f'pct.1_{curr_file_name}',f'pct.2_{curr_file_name}',\n",
    "                                                             f'p_val_adj_{curr_file_name}'],index = regulon_targets)\n",
    "            final_reg_df = pd.concat((final_reg_df,curr_file_df),axis=1)\n",
    "        \n",
    "        columns = final_reg_df.columns.tolist()\n",
    "        new_order = [columns[0]] + [columns[6], columns[12]] + columns[1:6] + columns[7:12] + columns[13:]\n",
    "        final_reg_df = final_reg_df[new_order] \n",
    "        \n",
    "        output_path = f'{output_dir}/5Ht/{cluster}'\n",
    "        os.makedirs(output_path, exist_ok=True)\n",
    "        final_reg_df.index.name = 'Gene'\n",
    "        final_reg_df.to_csv(f'{output_path}/{regulon}.csv',index=True)"
   ]
  },
  {
   "cell_type": "markdown",
   "id": "95b87668",
   "metadata": {},
   "source": [
    "# 6Ho"
   ]
  },
  {
   "cell_type": "code",
   "execution_count": 7,
   "id": "e351b765",
   "metadata": {},
   "outputs": [],
   "source": [
    "basal_similar_clusters = ['S1','S2','S3']\n",
    "\n",
    "for cluster in basal_similar_clusters:\n",
    "    significant_regulons_df = pd.read_csv(f'{basal_reg_dir}/Cluster_{cluster}_basal_reg_wilcoxon_AUC_diff_15_sig.csv')\n",
    "    significant_regulons = list(significant_regulons_df['Regulon'])\n",
    "    DEG_files = os.listdir(f\"{DEG_results_dir}/6ho_basal_{cluster}/\")\n",
    "    DEG_files = sorted(DEG_files)\n",
    "    DEG_files = [DEG_files[0],DEG_files[2],DEG_files[1]] ##reorder files as per our conditions\n",
    "    \n",
    "    for regulon in significant_regulons:\n",
    "        regulon_targets_df = pd.read_csv(f'{target_genes_6ho_dir}/{regulon}.csv')\n",
    "        regulon_targets = list(regulon_targets_df['Gene'])\n",
    "        final_reg_df = pd.DataFrame()\n",
    "        \n",
    "        for file in DEG_files:\n",
    "            DEG_regulons_df = pd.read_csv(f'{DEG_results_dir}/6ho_basal_{cluster}/{file}',sep='\\t',index_col=0)\n",
    "            DEG_results = []\n",
    "            for i,target in enumerate(regulon_targets):\n",
    "                if i == 0:\n",
    "                    curr_target = target.split('(')[0]\n",
    "                else:\n",
    "                    curr_target = target\n",
    "                if curr_target in DEG_regulons_df.index:\n",
    "                    DEG_results.append([1]+list(DEG_regulons_df.loc[curr_target]))\n",
    "                else:\n",
    "                    DEG_results.append([0,'NA','NA','NA','NA','NA'])\n",
    "                    \n",
    "            curr_file_name = file.split(f'{cluster}_')[-1].split('.')[0]\n",
    "            if '6Ho' not in curr_file_name and '6ho' not in curr_file_name:\n",
    "                curr_file_name = '6Ho_'+curr_file_name\n",
    "            curr_file_df = pd.DataFrame(DEG_results,columns=[f'{curr_file_name}_DEG',f'p_val_{curr_file_name}'\n",
    "                                                             ,f'avg_log2FC_{curr_file_name}',\n",
    "                                                             f'pct.1_{curr_file_name}',f'pct.2_{curr_file_name}',\n",
    "                                                             f'p_val_adj_{curr_file_name}'],index = regulon_targets)\n",
    "            final_reg_df = pd.concat((final_reg_df,curr_file_df),axis=1)\n",
    "        \n",
    "        columns = final_reg_df.columns.tolist()\n",
    "        new_order = [columns[0]] + [columns[6], columns[12]] + columns[1:6] + columns[7:12] + columns[13:]\n",
    "        final_reg_df = final_reg_df[new_order] \n",
    "        output_path = f'{output_dir}/6Ho/{cluster}'\n",
    "        os.makedirs(output_path, exist_ok=True)\n",
    "        final_reg_df.index.name = 'Gene'\n",
    "        final_reg_df.to_csv(f'{output_path}/{regulon}.csv',index=True)"
   ]
  },
  {
   "cell_type": "markdown",
   "id": "38932e26",
   "metadata": {},
   "source": [
    "# U1_wt"
   ]
  },
  {
   "cell_type": "code",
   "execution_count": 9,
   "id": "2bde0c7e",
   "metadata": {},
   "outputs": [],
   "source": [
    "significant_regulons_df = pd.read_csv(f'{basal_reg_dir}/U1_wt_basal_reg_wilcoxon_AUC_diff_15_sig.csv')\n",
    "significant_regulons = list(significant_regulons_df['Regulon'])\n",
    "basal_clusters = ['U1']\n",
    "for cluster in basal_clusters:\n",
    "    \n",
    "    DEG_files = os.listdir(f\"{DEG_results_dir}/5ht_basal_U1/\")\n",
    "    DEG_files = sorted(DEG_files)\n",
    "    DEG_files = DEG_files[::-1] ##reorder files as per our conditions\n",
    "    \n",
    "    for regulon in significant_regulons:\n",
    "        regulon_targets_df = pd.read_csv(f'{target_genes_5ht_dir}/{regulon}.csv')\n",
    "        regulon_targets = list(regulon_targets_df['Gene'])\n",
    "        final_reg_df = pd.DataFrame()\n",
    "        \n",
    "        for file in DEG_files:\n",
    "            DEG_regulons_df = pd.read_csv(f'{DEG_results_dir}/5ht_basal_U1/{file}',sep='\\t',index_col=0)\n",
    "            DEG_results = []\n",
    "            for i,target in enumerate(regulon_targets):\n",
    "                if i == 0:\n",
    "                    curr_target = target.split('(')[0]\n",
    "                else:\n",
    "                    curr_target = target\n",
    "                if curr_target in DEG_regulons_df.index:\n",
    "                    DEG_results.append([1]+list(DEG_regulons_df.loc[curr_target]))\n",
    "                else:\n",
    "                    DEG_results.append([0,'NA','NA','NA','NA','NA'])\n",
    "            curr_file_name = file.split(f'{cluster}_')[-1].split('.')[0]\n",
    "            if '5Ht' not in curr_file_name and '5ht' not in curr_file_name:\n",
    "                curr_file_name = '5Ht_'+curr_file_name\n",
    "            curr_file_df = pd.DataFrame(DEG_results,columns=[f'{curr_file_name}_DEG',f'p_val_{curr_file_name}'\n",
    "                                                             ,f'avg_log2FC_{curr_file_name}',\n",
    "                                                             f'pct.1_{curr_file_name}',f'pct.2_{curr_file_name}',\n",
    "                                                             f'p_val_adj_{curr_file_name}'],index = regulon_targets)\n",
    "            final_reg_df = pd.concat((final_reg_df,curr_file_df),axis=1)\n",
    "        \n",
    "        columns = final_reg_df.columns.tolist()\n",
    "        new_order = [columns[0]] + [columns[6]] + columns[1:6] + columns[7:]\n",
    "        final_reg_df = final_reg_df[new_order] \n",
    "        \n",
    "        output_path = f'{output_dir}/5Ht/{cluster}'\n",
    "        os.makedirs(output_path, exist_ok=True)\n",
    "        final_reg_df.index.name = 'Gene'\n",
    "        final_reg_df.to_csv(f'{output_path}/{regulon}.csv',index=True)"
   ]
  },
  {
   "cell_type": "code",
   "execution_count": null,
   "id": "ffb5fffd",
   "metadata": {},
   "outputs": [],
   "source": []
  }
 ],
 "metadata": {
  "kernelspec": {
   "display_name": "Python 3 (ipykernel)",
   "language": "python",
   "name": "python3"
  },
  "language_info": {
   "codemirror_mode": {
    "name": "ipython",
    "version": 3
   },
   "file_extension": ".py",
   "mimetype": "text/x-python",
   "name": "python",
   "nbconvert_exporter": "python",
   "pygments_lexer": "ipython3",
   "version": "3.9.13"
  }
 },
 "nbformat": 4,
 "nbformat_minor": 5
}
