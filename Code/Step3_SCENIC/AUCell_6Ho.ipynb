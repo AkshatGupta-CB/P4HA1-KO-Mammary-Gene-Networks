{
 "cells": [
  {
   "cell_type": "code",
   "execution_count": 1,
   "id": "5b78e216-0dfe-4e56-aca2-d42b094cb137",
   "metadata": {},
   "outputs": [],
   "source": [
    "from pyscenic.aucell import aucell\n",
    "import scanpy as sc\n",
    "import pandas as pd\n",
    "import pickle"
   ]
  },
  {
   "cell_type": "markdown",
   "id": "1ad2cd60-ad5e-405b-bb30-10c770a715da",
   "metadata": {},
   "source": [
    "# Basal"
   ]
  },
  {
   "cell_type": "code",
   "execution_count": 5,
   "id": "032730d6-27e3-4dac-ae35-d87626a6f329",
   "metadata": {},
   "outputs": [],
   "source": [
    "ho6_basal = ho6_data[ho6_data.obs['cluster1'] == 'Mammary epithelial cells-Basal']\n",
    "counts_df = pd.DataFrame(ho6_basal.X, index=ho6_basal.obs_names,columns=ho6_basal.var_names)"
   ]
  },
  {
   "cell_type": "code",
   "execution_count": 7,
   "id": "7d93a46b-57e8-45fa-8898-4e1fb8140bec",
   "metadata": {},
   "outputs": [],
   "source": [
    "REGULONS_FNAME = f'../../results/results_withP4HA1/Aggregated_regulons_for_AUCell/Agg_6ho_basal_regulons.p'\n",
    "with open(REGULONS_FNAME, \"rb\") as f:\n",
    "    regulons = pickle.load(f)\n",
    "auc_mtx = aucell(counts_df, regulons, num_workers=4)\n",
    "auc_mtx.to_csv(f'../../results/results_withP4HA1/Agg_AUCell_results/Agg_6ho_basal_auc_mtx.csv')"
   ]
  }
 ],
 "metadata": {
  "kernelspec": {
   "display_name": "Python 3 (ipykernel)",
   "language": "python",
   "name": "python3"
  },
  "language_info": {
   "codemirror_mode": {
    "name": "ipython",
    "version": 3
   },
   "file_extension": ".py",
   "mimetype": "text/x-python",
   "name": "python",
   "nbconvert_exporter": "python",
   "pygments_lexer": "ipython3",
   "version": "3.9.13"
  }
 },
 "nbformat": 4,
 "nbformat_minor": 5
}
