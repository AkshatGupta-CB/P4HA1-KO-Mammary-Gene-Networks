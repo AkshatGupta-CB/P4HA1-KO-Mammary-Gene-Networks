{
 "cells": [
  {
   "cell_type": "code",
   "execution_count": 1,
   "id": "5b78e216-0dfe-4e56-aca2-d42b094cb137",
   "metadata": {},
   "outputs": [],
   "source": [
    "from pyscenic.aucell import aucell\n",
    "import scanpy as sc\n",
    "import pandas as pd\n",
    "import pickle"
   ]
  },
  {
   "cell_type": "code",
   "execution_count": 2,
   "id": "032730d6-27e3-4dac-ae35-d87626a6f329",
   "metadata": {},
   "outputs": [],
   "source": [
    "#Load the data\n",
    "data = sc.read_h5ad('../../Processed_Data/NetworkData_HVGs_basal_5ht6ho_without_PTPRC_Adgre1.h5ad')\n",
    "ht5_data = data[data.obs['orig.ident'] == '5Ht']\n",
    "ht5_basal = ht5_data[ht5_data.obs['cluster1'] == 'Mammary epithelial cells-Basal']\n",
    "counts_df = pd.DataFrame(ht5_basal.X, index=ht5_basal.obs_names,columns=ht5_basal.var_names)"
   ]
  },
  {
   "cell_type": "code",
   "execution_count": 3,
   "id": "7d93a46b-57e8-45fa-8898-4e1fb8140bec",
   "metadata": {},
   "outputs": [],
   "source": [
    "## Load regulons and run AUCell\n",
    "\n",
    "# Aggregated regulons file path\n",
    "REGULONS_FNAME = f'../../Results/Results_no_ptprc_adgre1/SCENIC_results/results_step2_AggRegulons_5ht6hobasal/AggRegulons_5ht_basal.p'\n",
    "\n",
    "#Load regulons from the pickle file\n",
    "with open(REGULONS_FNAME, \"rb\") as f:\n",
    "    regulons = pickle.load(f)\n",
    "\n",
    "#Run AUCell\n",
    "auc_mtx = aucell(counts_df, regulons, num_workers=4)\n",
    "\n",
    "#Save the AUCell results\n",
    "auc_mtx.to_csv(f'../../Results/Results_no_ptprc_adgre1/SCENIC_results/results_step3_AUC_5ht6hobasal/AUC_mtx_Agg_5ht_basal.csv')"
   ]
  },
  {
   "cell_type": "code",
   "execution_count": null,
   "id": "8b8d555f-9104-4a2f-b365-2fd459cdbefa",
   "metadata": {},
   "outputs": [],
   "source": []
  }
 ],
 "metadata": {
  "kernelspec": {
   "display_name": "Python 3 (ipykernel)",
   "language": "python",
   "name": "python3"
  },
  "language_info": {
   "codemirror_mode": {
    "name": "ipython",
    "version": 3
   },
   "file_extension": ".py",
   "mimetype": "text/x-python",
   "name": "python",
   "nbconvert_exporter": "python",
   "pygments_lexer": "ipython3",
   "version": "3.10.11"
  }
 },
 "nbformat": 4,
 "nbformat_minor": 5
}
