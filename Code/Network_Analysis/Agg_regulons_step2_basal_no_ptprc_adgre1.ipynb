{
 "cells": [
  {
   "cell_type": "code",
   "execution_count": null,
   "id": "91288d2f",
   "metadata": {},
   "outputs": [],
   "source": [
    "import os\n",
    "from arboreto.utils import load_tf_names\n",
    "import numpy as np\n",
    "import pandas as pd\n",
    "import pickle\n",
    "import copy"
   ]
  },
  {
   "cell_type": "markdown",
   "id": "ec401ecc-8be6-4a90-ae87-62c3fc40967c",
   "metadata": {},
   "source": [
    "# 5ht"
   ]
  },
  {
   "cell_type": "code",
   "execution_count": null,
   "id": "bab25ece-830d-438a-9bbc-ded65805f4a7",
   "metadata": {},
   "outputs": [],
   "source": [
    "#Initialize a list to store aggregated regulons\n",
    "final_regulon_5ht = []\n",
    "#First add all unique regulons found across all 20 runs\n",
    "for i in range(20):\n",
    "    #Load the file\n",
    "    curr_file_name = f'../../Results/Results_no_ptprc_adgre1/SCENIC_results/results_step2_5ht_basal/regulons_5ht_basal_run{i}.p'\n",
    "    with open(curr_file_name, \"rb\") as f:\n",
    "        curr_regulons = pickle.load(f)\n",
    "    #Now add unique regulons\n",
    "    for reg in curr_regulons:\n",
    "        names = []\n",
    "        for regs in final_regulon_5ht:\n",
    "            names.append(regs.name)\n",
    "        if reg.name not in names:\n",
    "            final_regulon_5ht.append(reg)  "
   ]
  },
  {
   "cell_type": "code",
   "execution_count": null,
   "id": "eb9d5538-0291-4450-9e1e-89e63636e91d",
   "metadata": {},
   "outputs": [],
   "source": [
    "#Now, go over all 20 runs and take the unions of same regulons occuring across all runs\n",
    "for i in range(20):\n",
    "    #Load the file\n",
    "    curr_file_name = f'../../Results/Results_no_ptprc_adgre1/SCENIC_results/results_step2_5ht_basal/regulons_5ht_basal_run{i}.p'\n",
    "    with open(curr_file_name, \"rb\") as f:\n",
    "        curr_regulons = pickle.load(f)\n",
    "    count = 0\n",
    "    #Now take the union of regulons\n",
    "    for k,_ in enumerate(final_regulon_5ht):\n",
    "        for reg in curr_regulons: \n",
    "            if reg.name == final_regulon_5ht[k].name:\n",
    "                count+=1\n",
    "                final_regulon_5ht[k] = final_regulon_5ht[k].union(reg)\n",
    "                #Break for efficiency - each regulon only occurs once in a run; if we find a match, we dont need to look further\n",
    "                break"
   ]
  },
  {
   "cell_type": "code",
   "execution_count": null,
   "id": "b7a63576-3b52-48ae-b03e-335c56a24f2b",
   "metadata": {},
   "outputs": [],
   "source": [
    "#Save the aggregated regulons for next steps\n",
    "with open('../../Results/Results_no_ptprc_adgre1/SCENIC_results/results_step2_AggRegulons_5ht6hobasal/AggRegulons_5ht_basal.p', \"wb\") as f:\n",
    "   pickle.dump(final_regulon_5ht, f)"
   ]
  },
  {
   "cell_type": "markdown",
   "id": "7471ae1e",
   "metadata": {},
   "source": [
    "# 6ho"
   ]
  },
  {
   "cell_type": "code",
   "execution_count": null,
   "id": "a67f6c95-06a7-4087-b8d9-d4533a579a11",
   "metadata": {},
   "outputs": [],
   "source": [
    "#Initialize a list to store aggregated regulons\n",
    "final_regulon_6ho = []\n",
    "#First add all unique regulons found across all 20 runs\n",
    "for i in range(20):\n",
    "    curr_file_name = f'../../Results/Results_no_ptprc_adgre1/SCENIC_results/results_step2_6ho_basal/regulons_6ho_basal_run{i}.p'\n",
    "    with open(curr_file_name, \"rb\") as f:\n",
    "        curr_regulons = pickle.load(f)\n",
    "    #Now add unique regulons\n",
    "    for reg in curr_regulons:\n",
    "        names = []\n",
    "        for regs in final_regulon_6ho:\n",
    "            names.append(regs.name)\n",
    "        if reg.name not in names:\n",
    "            final_regulon_6ho.append(reg)       "
   ]
  },
  {
   "cell_type": "code",
   "execution_count": null,
   "id": "47532e73-5ab8-4360-86a9-4a7316316aaf",
   "metadata": {},
   "outputs": [],
   "source": [
    "#Now, go over all 20 runs and take the unions of same regulons occuring across all runs\n",
    "for i in range(20):\n",
    "    #Load the file\n",
    "    curr_file_name = f'../../Results/Results_no_ptprc_adgre1/SCENIC_results/results_step2_6ho_basal/regulons_6ho_basal_run{i}.p'\n",
    "    with open(curr_file_name, \"rb\") as f:\n",
    "        curr_regulons = pickle.load(f)\n",
    "    #Now take the union of regulons \n",
    "    for k,_ in enumerate(final_regulon_6ho):\n",
    "        for reg in curr_regulons: \n",
    "            if reg.name == final_regulon_6ho[k].name:\n",
    "                final_regulon_6ho[k] = final_regulon_6ho[k].union(reg)\n",
    "                #Break for efficiency - each regulon only occurs once in a run; if we find a match, we dont need to look further\n",
    "                break"
   ]
  },
  {
   "cell_type": "code",
   "execution_count": null,
   "id": "e3d0a9ef",
   "metadata": {},
   "outputs": [],
   "source": [
    "#Save the file\n",
    "with open('../../Results/Results_no_ptprc_adgre1/SCENIC_results/results_step2_AggRegulons_5ht6hobasal/AggRegulons_6ho_basal.p', \"wb\") as f:\n",
    "   pickle.dump(final_regulon_6ho, f)"
   ]
  },
  {
   "cell_type": "code",
   "execution_count": null,
   "id": "72aaebe1",
   "metadata": {},
   "outputs": [],
   "source": []
  }
 ],
 "metadata": {
  "kernelspec": {
   "display_name": "Python 3 (ipykernel)",
   "language": "python",
   "name": "python3"
  },
  "language_info": {
   "codemirror_mode": {
    "name": "ipython",
    "version": 3
   },
   "file_extension": ".py",
   "mimetype": "text/x-python",
   "name": "python",
   "nbconvert_exporter": "python",
   "pygments_lexer": "ipython3",
   "version": "3.10.11"
  }
 },
 "nbformat": 4,
 "nbformat_minor": 5
}
