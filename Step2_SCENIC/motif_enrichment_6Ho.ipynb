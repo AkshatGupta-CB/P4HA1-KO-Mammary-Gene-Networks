{
 "cells": [
  {
   "cell_type": "code",
   "execution_count": 1,
   "id": "619be8ce-6a79-4ddc-97ba-430b4acc93fb",
   "metadata": {},
   "outputs": [],
   "source": [
    "import os\n",
    "import glob\n",
    "import pickle\n",
    "import pandas as pd\n",
    "import numpy as np\n",
    "import scanpy as sc\n",
    "from dask.diagnostics import ProgressBar\n",
    "\n",
    "from arboreto.utils import load_tf_names\n",
    "from arboreto.algo import grnboost2\n",
    "\n",
    "from ctxcore.rnkdb import FeatherRankingDatabase as RankingDatabase\n",
    "from pyscenic.utils import modules_from_adjacencies, load_motifs\n",
    "from pyscenic.prune import prune2df, df2regulons\n",
    "from pyscenic.aucell import aucell"
   ]
  },
  {
   "cell_type": "code",
   "execution_count": 2,
   "id": "96888568-7844-4cb2-a7e7-b1fd5bf2d8e6",
   "metadata": {
    "scrolled": true
   },
   "outputs": [
    {
     "data": {
      "text/plain": [
       "[FeatherRankingDatabase(name=\"mm10_500bp_up_100bp_down_full_tx_v10_clust.genes_vs_motifs.rankings\"),\n",
       " FeatherRankingDatabase(name=\"mm10_10kbp_up_10kbp_down_full_tx_v10_clust.genes_vs_motifs.rankings\"),\n",
       " FeatherRankingDatabase(name=\"mm10_10kbp_up_10kbp_down_full_tx_v10_clust.genes_vs_motifs.scores\"),\n",
       " FeatherRankingDatabase(name=\"mm10_500bp_up_100bp_down_full_tx_v10_clust.genes_vs_motifs.scores\")]"
      ]
     },
     "execution_count": 2,
     "metadata": {},
     "output_type": "execute_result"
    }
   ],
   "source": [
    "DATABASES_GLOB = os.path.join('../../data/feather_files/', \"mm10_*.feather\")\n",
    "db_fnames = glob.glob(DATABASES_GLOB)\n",
    "def name(fname):\n",
    "    return os.path.splitext(os.path.basename(fname))[0]\n",
    "dbs = [RankingDatabase(fname=fname, name=name(fname)) for fname in db_fnames]\n",
    "dbs"
   ]
  },
  {
   "cell_type": "markdown",
   "id": "a37d3bf9-83f5-42c9-8764-2160360418f7",
   "metadata": {},
   "source": [
    "# Modules and motif enrichment for 6Ho"
   ]
  },
  {
   "cell_type": "code",
   "execution_count": null,
   "id": "9f289fd5-d96a-4923-b1ae-023d7c14d336",
   "metadata": {},
   "outputs": [],
   "source": [
    "#Load the data\n",
    "data = sc.read_h5ad('../../data/combined_data_5ht6hointersection_union_highly_var.h5ad')\n",
    "ho6_data = data[data.obs['orig.ident'] == '6Ho']\n",
    "ho6_basal = ho6_data[ho6_data.obs['cluster1'] == 'Mammary epithelial cells-Basal']\n",
    "counts_df = pd.DataFrame(ho6_basal.X, index=ho6_basal.obs_names,columns=ho6_basal.var_names)\n",
    "#Load the motif annotation file name\n",
    "MOTIF_ANNOTATIONS_FNAME = \"../../data/feather_files/motifs-v10nr_clust-nr.mgi-m0.001-o0.0.tbl\"\n",
    "#Load the tfs\n",
    "tfs = load_tf_names('../../data/allTFs_mm.txt')\n",
    "tfs = sorted(list((set(tfs).intersection(ho6_data.var_names))))\n",
    "\n",
    "#Run loop to obtain regulons for files obtained from step 1\n",
    "for i in range(0,20):\n",
    "    #Obatain the adjacency matrix\n",
    "    curr_file_name = f'../../results/results_step_1_grnboost2_6ho_basal/6ho_basal_adjacencies_run{i}_allTFs.csv'\n",
    "    curr_adjacencies = pd.read_csv(curr_file_name)\n",
    "    #Generate modules for 6ho basal \n",
    "    modules = list(modules_from_adjacencies(curr_adjacencies, counts_df))\n",
    "    #get regulons\n",
    "    with ProgressBar():\n",
    "        curr_df = prune2df(dbs, modules, MOTIF_ANNOTATIONS_FNAME)\n",
    "    curr_df.to_csv(f'../../results/results_step_2_strat_1_6ho_basal/motif_enrichment_6ho_basal_run{i}.csv')\n",
    "    curr_regulons = df2regulons(curr_df)\n",
    "    with open(f'../../results/results_step_2_strat_1_6ho_basal/6ho_basal_regulons_run{i}.p', \"wb\") as f:\n",
    "        pickle.dump(curr_regulons, f)\n",
    "    "
   ]
  }
 ],
 "metadata": {
  "kernelspec": {
   "display_name": "Python 3 (ipykernel)",
   "language": "python",
   "name": "python3"
  },
  "language_info": {
   "codemirror_mode": {
    "name": "ipython",
    "version": 3
   },
   "file_extension": ".py",
   "mimetype": "text/x-python",
   "name": "python",
   "nbconvert_exporter": "python",
   "pygments_lexer": "ipython3",
   "version": "3.10.11"
  }
 },
 "nbformat": 4,
 "nbformat_minor": 5
}
